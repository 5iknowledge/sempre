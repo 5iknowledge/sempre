{
 "cells": [
  {
   "cell_type": "raw",
   "metadata": {},
   "source": [
    "A line looks like this\n",
    "  \"time\": \"2017-01-21T05:31:57.474\",\n",
    "  \"id\": \"AMT_A1HKYY6XI2OHO1\",\n",
    "  \"log\": \"(:q \\\"repeat 10 [ Ebony Wall; select front]\\\")\",\n",
    "  \"stats.type\": \"q\",\n",
    "  \"stats.size\": 1,\n",
    "  \"stats.status\": \"Induced\",\n",
    "  \"queryCount\": 2707"
   ]
  },
  {
   "cell_type": "code",
   "execution_count": 82,
   "metadata": {
    "collapsed": false,
    "scrolled": false
   },
   "outputs": [
    {
     "name": "stdout",
     "output_type": "stream",
     "text": [
      "745\n",
      "log.file\tstate/execs/745.exec/log\n",
      "Simulator.reqParams\tgrammar=1&cite=1&learn=1&logging=0\n",
      "Simulator.logFiles\t./shrdlurn/queries/freebuildbig-0206.def.json.gz\n",
      "941 lines in plotInfo\n",
      "[]\n",
      "errors:38, stats.uncaught_error:0\n",
      "{'total_rules': 1105, 'total_failed': 109, 'total_def_queries': 903, 'total_body': 3460}\n",
      "failpercent: 0.0315\n"
     ]
    }
   ],
   "source": [
    "import csv\n",
    "import numpy as np\n",
    "import pandas as pd  \n",
    "import matplotlib\n",
    "import matplotlib.pyplot as plt\n",
    "import json\n",
    "import os\n",
    "import subprocess\n",
    "from collections import OrderedDict\n",
    "%matplotlib inline\n",
    "\n",
    "with open('../state/lastExec', 'rb') as lastExec:\n",
    "    lastExecInd = lastExec.readline().strip()\n",
    "print lastExecInd\n",
    "\n",
    "rows = []; \n",
    "execInd = lastExecInd;\n",
    "execPath = '../state/execs/%s.exec/' % execInd\n",
    "#print 'analyzing: ' + execPath\n",
    "def printOptions():\n",
    "    with open(os.path.join(execPath,'options.map')) as optionsfile:\n",
    "        opts = filter(lambda l: 'file' in l or 'logFiles' in l  or 'reqParams' in l, optionsfile.readlines());\n",
    "        for opt in opts: print opt.strip()\n",
    "    # egrep 'file|Simulator'\n",
    "printOptions()\n",
    "\n",
    "with open('../state/execs/%s.exec/plotInfo.json' % execInd, 'rb') as jsonfile:\n",
    "    json_lines = jsonfile.readlines()\n",
    "print '%d lines in plotInfo' % len(json_lines)\n",
    "rows = [json.loads(l) for l in json_lines]\n",
    "\n",
    "typed_rows = [r for r in rows if r.has_key('stats.type')]\n",
    "error_rows = [r for r in rows if not r.has_key('stats.type')]\n",
    "print [r['stats.uncaught_error'] for r in error_rows]\n",
    "normal_error = [r for r in typed_rows if r.has_key('stats.error')]\n",
    "print 'errors:%d, stats.uncaught_error:%d' % (len(normal_error),len(error_rows))\n",
    "\n",
    "filtered_rows = [r for r in typed_rows if r['stats.type'] == 'def' and r['stats.num_rules'] >= 1]\n",
    "\n",
    "# print filtered_rows[0]\n",
    "\n",
    "def print_stats():\n",
    "    total_failed = np.sum([r['stats.num_failed'] for r in filtered_rows])\n",
    "    total_body = np.sum([r['stats.num_body'] for r in filtered_rows])\n",
    "\n",
    "    stats =  {\\\n",
    "           'total_def_queries': len(filtered_rows), \\\n",
    "           'total_rules': np.sum([r['stats.num_rules'] for r in filtered_rows]), \\\n",
    "           'total_failed': total_failed, \\\n",
    "           'total_body': total_body\n",
    "           }\n",
    "    print stats\n",
    "    print 'failpercent: %.4f' % (float(total_failed)/float(total_body))\n",
    "\n",
    "print_stats()"
   ]
  }
 ],
 "metadata": {
  "kernelspec": {
   "display_name": "Python 2",
   "language": "python",
   "name": "python2"
  },
  "language_info": {
   "codemirror_mode": {
    "name": "ipython",
    "version": 2
   },
   "file_extension": ".py",
   "mimetype": "text/x-python",
   "name": "python",
   "nbconvert_exporter": "python",
   "pygments_lexer": "ipython2",
   "version": "2.7.9"
  }
 },
 "nbformat": 4,
 "nbformat_minor": 0
}
