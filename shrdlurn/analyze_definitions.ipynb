{
 "cells": [
  {
   "cell_type": "raw",
   "metadata": {},
   "source": [
    "A line looks like this\n",
    "  \"time\": \"2017-01-21T05:31:57.474\",\n",
    "  \"id\": \"AMT_A1HKYY6XI2OHO1\",\n",
    "  \"log\": \"(:q \\\"repeat 10 [ Ebony Wall; select front]\\\")\",\n",
    "  \"stats.type\": \"q\",\n",
    "  \"stats.size\": 1,\n",
    "  \"stats.status\": \"Induced\",\n",
    "  \"queryCount\": 2707"
   ]
  },
  {
   "cell_type": "code",
   "execution_count": 64,
   "metadata": {
    "collapsed": false,
    "scrolled": false
   },
   "outputs": [
    {
     "name": "stdout",
     "output_type": "stream",
     "text": [
      "728\n",
      "log.file\tstate/execs/728.exec/log\n",
      "Simulator.reqParams\tgrammar=1&cite=1&learn=1&logging=0\n",
      "Simulator.logFiles\t./shrdlurn/queries/freebuildbig-0206.def.json.gz\n",
      "2495 lines in plotInfo\n",
      "[u'java.util.concurrent.TimeoutException']\n",
      "errors:69, stats.uncaught_error:1\n",
      "{u'stats.head_len': 14, u'remote': u'188.0.26.146', u'format': u'lisp2json', u'stats.num_body': 7, u'stats.json_len': 979, u'q': u'(:def_iso \"add red ring 5\" \"[[\\\\\"repeat 2 [select left]\\\\\",\\\\\"(:loop (number 2) (: select (call adj left)))\\\\\"],[\\\\\"repeat 2 [select front]\\\\\",\\\\\"(:loop (number 2) (: select (call adj front)))\\\\\"],[\\\\\"repeat 5 [add red; select right]; select left\\\\\",\\\\\"(:s (:loop (number 5) (:s (: add red here) (: select (call adj right)))) (: select (call adj left)))\\\\\"],[\\\\\"select back; repeat 4 [add red; select back]; select left; select front\\\\\",\\\\\"(:s (:s (:s (: select (call adj back)) (:loop (number 4) (:s (: add red here) (: select (call adj back))))) (: select (call adj left))) (: select (call adj front)))\\\\\"],[\\\\\"repeat 4 [add red; select left]; select right\\\\\",\\\\\"(:s (:loop (number 4) (:s (: add red here) (: select (call adj left)))) (: select (call adj right)))\\\\\"],[\\\\\"select front; repeat 3 [add red; select front]\\\\\",\\\\\"(:s (: select (call adj front)) (:loop (number 3) (:s (: add red here) (: select (call adj front)))))\\\\\"],[\\\\\"repeat 2 [select back; select right]\\\\\",\\\\\"(:loop (number 2) (:s (: select (call adj back)) (: select (call adj right))))\\\\\"]]\")', u'sessionId': u'MT_AIWEXPJAU66D9', u'queryCount': 1, u'stats.num_rules': 2, u'stats.num_failed': 0, u'time': u'2017-02-03T03:26:45.640', u'stats.time': 0.17589929, u'stats.type': u'def'}\n",
      "{'total_rules': 2857, 'total_failed': 1977, 'total_def_queries': 2425, 'total_body': 15602}\n",
      "failpercent: 0.1267\n"
     ]
    }
   ],
   "source": [
    "import csv\n",
    "import numpy as np\n",
    "import pandas as pd  \n",
    "import matplotlib\n",
    "import matplotlib.pyplot as plt\n",
    "import json\n",
    "import os\n",
    "import subprocess\n",
    "from collections import OrderedDict\n",
    "%matplotlib inline\n",
    "\n",
    "with open('../state/lastExec', 'rb') as lastExec:\n",
    "    lastExecInd = lastExec.readline().strip()\n",
    "print lastExecInd\n",
    "\n",
    "rows = []; \n",
    "execInd = lastExecInd;\n",
    "execPath = '../state/execs/%s.exec/' % execInd\n",
    "#print 'analyzing: ' + execPath\n",
    "def printOptions():\n",
    "    with open(os.path.join(execPath,'options.map')) as optionsfile:\n",
    "        opts = filter(lambda l: 'file' in l or 'logFiles' in l  or 'reqParams' in l, optionsfile.readlines());\n",
    "        for opt in opts: print opt.strip()\n",
    "    # egrep 'file|Simulator'\n",
    "printOptions()\n",
    "\n",
    "with open('../state/execs/%s.exec/plotInfo.json' % execInd, 'rb') as jsonfile:\n",
    "    json_lines = jsonfile.readlines()\n",
    "print '%d lines in plotInfo' % len(json_lines)\n",
    "rows = [json.loads(l) for l in json_lines]\n",
    "\n",
    "typed_rows = [r for r in rows if r.has_key('stats.type')]\n",
    "error_rows = [r for r in rows if not r.has_key('stats.type')]\n",
    "print [r['stats.uncaught_error'] for r in error_rows]\n",
    "normal_error = [r for r in typed_rows if r.has_key('stats.error')]\n",
    "print 'errors:%d, stats.uncaught_error:%d' % (len(normal_error),len(error_rows))\n",
    "\n",
    "filtered_rows = [r for r in typed_rows if r['stats.type'] == 'def' and r['stats.num_rules'] >= 1]\n",
    "\n",
    "print filtered_rows[0]\n",
    "\n",
    "def print_stats():\n",
    "    total_failed = np.sum([r['stats.num_failed'] for r in filtered_rows])\n",
    "    total_body = np.sum([r['stats.num_body'] for r in filtered_rows])\n",
    "\n",
    "    stats =  {\\\n",
    "           'total_def_queries': len(filtered_rows), \\\n",
    "           'total_rules': np.sum([r['stats.num_rules'] for r in filtered_rows]), \\\n",
    "           'total_failed': total_failed, \\\n",
    "           'total_body': total_body\n",
    "           }\n",
    "    print stats\n",
    "    print 'failpercent: %.4f' % (float(total_failed)/float(total_body))\n",
    "\n",
    "print_stats()"
   ]
  },
  {
   "cell_type": "code",
   "execution_count": null,
   "metadata": {
    "collapsed": true
   },
   "outputs": [],
   "source": []
  }
 ],
 "metadata": {
  "kernelspec": {
   "display_name": "Python 2",
   "language": "python",
   "name": "python2"
  },
  "language_info": {
   "codemirror_mode": {
    "name": "ipython",
    "version": 2
   },
   "file_extension": ".py",
   "mimetype": "text/x-python",
   "name": "python",
   "nbconvert_exporter": "python",
   "pygments_lexer": "ipython2",
   "version": "2.7.9"
  }
 },
 "nbformat": 4,
 "nbformat_minor": 0
}
